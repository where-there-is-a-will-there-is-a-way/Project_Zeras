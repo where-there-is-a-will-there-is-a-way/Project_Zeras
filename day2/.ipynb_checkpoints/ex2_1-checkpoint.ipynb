{
 "cells": [
  {
   "cell_type": "markdown",
   "id": "511fd506",
   "metadata": {},
   "source": [
    "https://developers.naver.com/main/ 네이버 개발자 쎈터\n",
    "\n",
    "https://openapi.naver.com/v1/search/blog.json https://openapi.naver.com/v1/search/news.json https://openapi.naver.com/v1/search/book.json https://openapi.naver.com/v1/search/movie.json https://openapi.naver.com/v1/search/shop.json\n",
    "\n"
   ]
  },
  {
   "cell_type": "code",
   "execution_count": 10,
   "id": "0f62d8e0",
   "metadata": {},
   "outputs": [],
   "source": [
    "import urllib.request\n",
    "#client_id = \"guNXoD62a25MMK2_7cT1\"\n",
    "#client_secret = \"MYWC9jnZJ3\"\n",
    "client_id = \"YPUlVslHJcbE62y7YsBt\"\n",
    "client_secret = \"sbdytXQxqj\""
   ]
  },
  {
   "cell_type": "code",
   "execution_count": 36,
   "id": "eef18f1a",
   "metadata": {},
   "outputs": [
    {
     "data": {
      "text/plain": [
       "'https://openapi.naver.com/v1/search/blog.json?query=%EC%B0%B8%EB%8F%94%ED%9A%8C'"
      ]
     },
     "execution_count": 36,
     "metadata": {},
     "output_type": "execute_result"
    }
   ],
   "source": [
    "encText=urllib.parse.quote(\"참돔회\")\n",
    "url1=\"https://openapi.naver.com/v1/search/blog.json?query=\"+encText\n",
    "url1"
   ]
  },
  {
   "cell_type": "code",
   "execution_count": 37,
   "id": "89c20e73",
   "metadata": {},
   "outputs": [],
   "source": [
    "request = urllib.request.Request(url1)\n",
    "request.add_header(\"X-Naver-Client-Id\", client_id)\n",
    "request.add_header(\"X-Naver-Client-Secret\", client_secret)"
   ]
  },
  {
   "cell_type": "code",
   "execution_count": 38,
   "id": "ef0dadb1",
   "metadata": {},
   "outputs": [
    {
     "name": "stdout",
     "output_type": "stream",
     "text": [
      "200\n"
     ]
    }
   ],
   "source": [
    "response = urllib.request.urlopen(request)\n",
    "print(response.getcode())"
   ]
  },
  {
   "cell_type": "code",
   "execution_count": 39,
   "id": "1413fe66",
   "metadata": {},
   "outputs": [
    {
     "data": {
      "text/plain": [
       "http.client.HTTPResponse"
      ]
     },
     "execution_count": 39,
     "metadata": {},
     "output_type": "execute_result"
    }
   ],
   "source": [
    "type(response)"
   ]
  },
  {
   "cell_type": "code",
   "execution_count": 40,
   "id": "240d0b56",
   "metadata": {},
   "outputs": [
    {
     "name": "stdout",
     "output_type": "stream",
     "text": [
      "{\n",
      "\"lastBuildDate\": \"Wed, 24 Nov 2021 18:26:31 +0900\",\n",
      "\"total\": 19369,\n",
      "\"start\": 1,\n",
      "\"display\": 10,\n",
      "\"items\": [\n",
      "{\n",
      "\"title\": \"서귀포 <b>참돔회</b> 제주 모슬포 횟집 : 횟집학개론\",\n",
      "\"link\": \"https:\\/\\/blog.naver.com\\/eunjjong87?Redirect=Log&logNo=222439890295\",\n",
      "\"description\": \"저희는 내부에 자리를 잡고 이곳의 시그니처 메뉴인 서귀포 <b>참돔회</b>를 주문을 했습니다. 참돔막회 중은... 3kg 이상의 서귀포 <b>참돔회</b>가 나와서 양은 다른 곳에 비해 돋보였답니다. 막회를 제대로 맛보기 전에... \",\n",
      "\"bloggername\": \"푸파푸파\",\n",
      "\"bloggerlink\": \"https://blog.naver.com/eunjjong87\",\n",
      "\"postdate\": \"20210722\"\n",
      "\n",
      "},\n",
      "{\n",
      "\"title\": \"제주도 <b>참돔회</b> 굿초이스 어멍횟집\",\n",
      "\"link\": \"https:\\/\\/blog.naver.com\\/hellopinksis?Redirect=Log&logNo=222550108084\",\n",
      "\"description\": \"지난 주말 가족들과 외식을 위해 제주도 <b>참돔회</b> 맛집에 들렸다 왔어요. 다양한 스끼다시와 신선한... 한쪽에는 제주도 <b>참돔회</b> 맛집에 다녀가신 유명인 분들의 사인이 보였어요. 인기가 많은 곳임을... \",\n",
      "\"bloggername\": \"핑크언니네\",\n",
      "\"bloggerlink\": \"https://blog.naver.com/hellopinksis\",\n",
      "\"postdate\": \"20211028\"\n",
      "\n",
      "},\n",
      "{\n",
      "\"title\": \"제주 <b>참돔회</b> 맛집 해산물모둠 알차게 나오는 바다풍경횟집!\",\n",
      "\"link\": \"https:\\/\\/blog.naver.com\\/yjdals0617?Redirect=Log&logNo=222187992082\",\n",
      "\"description\": \"특히 제주 <b>참돔회</b>를 먹었던 곳이 있었는데, 탱글탱글하니 맛있더라고요. 1. 제주 바다풍경횟집 시간 : 평일 11:00 - 23:00 연중무휴 주소 : 제주 제주시 서해안로 654 전화 : ***-***-**** 저희가 들렸던 제주 <b>참돔회</b>... \",\n",
      "\"bloggername\": \"♪이기적인 아주 사소한 잉카페♪\",\n",
      "\"bloggerlink\": \"https://blog.naver.com/yjdals0617\",\n",
      "\"postdate\": \"20201228\"\n",
      "\n",
      "},\n",
      "{\n",
      "\"title\": \"노량진 회배달 목포유달산에서 푸짐한 <b>참돔회</b> 포장\",\n",
      "\"link\": \"https:\\/\\/blog.naver.com\\/sngz92?Redirect=Log&logNo=222188638846\",\n",
      "\"description\": \"제철 방어와 바로 떠낸 <b>참돔회</b>, 그리고 광어와 연어까지 무적의 4총사 조합이에요~ 4인이 먹고도 충분할... 주인공 <b>참돔회</b>! 향상 종잇장처럼 얇게 썰어놓은 동네 횟집에서 먹는거랑 클라스부터 다르네요. 이렇게... \",\n",
      "\"bloggername\": \"ANNE의 일상 블로그\",\n",
      "\"bloggerlink\": \"https://blog.naver.com/sngz92\",\n",
      "\"postdate\": \"20201229\"\n",
      "\n",
      "},\n",
      "{\n",
      "\"title\": \"상차림 푸짐한 제주시 횟집 끝내주는 <b>참돔회</b> 방어회!\",\n",
      "\"link\": \"https:\\/\\/blog.naver.com\\/y2j038?Redirect=Log&logNo=222133554407\",\n",
      "\"description\": \"잡고는 <b>참돔회</b>와 방어회가 주 메인인 바다스페셜 코스로 주문을 했어요. 각종 스키다시와 싱싱한... 또 이곳 제주시 횟집의 메인회에는 앞에서 말했듯이 <b>참돔회</b>와 방어회가 나와주는데요. 양이 충분했고 빛깔도... \",\n",
      "\"bloggername\": \"겨울 발자국\",\n",
      "\"bloggerlink\": \"https://blog.naver.com/y2j038\",\n",
      "\"postdate\": \"20201103\"\n",
      "\n",
      "},\n",
      "{\n",
      "\"title\": \"중문 횟집 <b>참돔회</b> 파티를 제대로 즐긴날\",\n",
      "\"link\": \"https:\\/\\/blog.naver.com\\/gaeul8965?Redirect=Log&logNo=222049216593\",\n",
      "\"description\": \"대표 메뉴는 <b>참돔회</b>라고. 우리는 담돔회와 매운탕을 주문했다. 금액대가 나쁘지 않아서 가성비도... 선홍빛 빛깔이 눈에 도드라지는데 두툼하게 썰려 있어서 식감까지 굳뜨였던 <b>참돔회</b>! 차가운 느낌이 그대로... \",\n",
      "\"bloggername\": \"가을달과 함께 하는 이야기\",\n",
      "\"bloggerlink\": \"https://blog.naver.com/gaeul8965\",\n",
      "\"postdate\": \"20200802\"\n",
      "\n",
      "},\n",
      "{\n",
      "\"title\": \"포항 물회 포장 전문 농라카페에서 유명한 똘이수산 <b>참돔회</b>... \",\n",
      "\"link\": \"https:\\/\\/blog.naver.com\\/lovelyone0612?Redirect=Log&logNo=222219167178\",\n",
      "\"description\": \"농라카페 #<b>참돔회</b> 똘이수산은 수산물 택배 및 포장 전문업체인데요. 농라카페에서 인기도 많고 평이... 강도다리, 광어, 우럭, <b>참돔회</b> 일반 물회, 자연산 물회 세트메뉴, 모듬회, 전복 등 다양한 어종을... \",\n",
      "\"bloggername\": \"Lovely One Story\",\n",
      "\"bloggerlink\": \"https://blog.naver.com/lovelyone0612\",\n",
      "\"postdate\": \"20210125\"\n",
      "\n",
      "},\n",
      "{\n",
      "\"title\": \"광주 광산구 맛집 쫄깃한 <b>참돔회</b> 여수회수산\",\n",
      "\"link\": \"https:\\/\\/blog.naver.com\\/hhyunk49?Redirect=Log&logNo=222534504494\",\n",
      "\"description\": \"요즘 이맘때에 먹어주면 맛있다는 제철 <b>참돔회</b> 맛보러 광주 광산구 맛집 갔다옴. 회사랑 가까워서... 해산물 <b>참돔회</b> 주문하니 먼저 기본으로 나오는 모듬 해산물 스끼다시 싱싱한게 진짜 맛있다 전복회,멍게,소라... \",\n",
      "\"bloggername\": \"뀬이월드\",\n",
      "\"bloggerlink\": \"https://blog.naver.com/hhyunk49\",\n",
      "\"postdate\": \"20211012\"\n",
      "\n",
      "},\n",
      "{\n",
      "\"title\": \"바다풍경횟집 - 오션뷰 단독 룸에서 즐기는 제철 방어와 <b>참돔회</b>\",\n",
      "\"link\": \"https:\\/\\/blog.naver.com\\/hanoos74?Redirect=Log&logNo=222217004529\",\n",
      "\"description\": \"제철 방어와 <b>참돔회</b> 우리가 주문한 메뉴는 8만원 짜리 모듬회에 2만원을 추가하여 맞춘 요리로 2층 브레이크타임에 둘이서 12인실 대형 룸을 마음 놓고 이용하기 위한 사장님과의 딜이 성사된 결과다.(원래... \",\n",
      "\"bloggername\": \"보아스와 아비가일\",\n",
      "\"bloggerlink\": \"https://blog.naver.com/hanoos74\",\n",
      "\"postdate\": \"20210123\"\n",
      "\n",
      "},\n",
      "{\n",
      "\"title\": \"광주두암동맛집 &lt;서해수산활어직판장&gt; <b>참돔회</b>,왕새우소금구이... \",\n",
      "\"link\": \"https:\\/\\/blog.naver.com\\/happykh0516?Redirect=Log&logNo=222112092010\",\n",
      "\"description\": \"너의사랑 <b>참돔회</b> 살짝 붉은 살이 군침이 도네요 광주두암동맛집 서해수산 활어직판장 <b>참돔회</b> 윤기가 촤르르르 각자의 스타일대로 먹어봅니다 어떻게 먹어도 쫄깃고소한게 너무너무맛있어요 이렇게 맛있는... \",\n",
      "\"bloggername\": \"알공이는 스몰\",\n",
      "\"bloggerlink\": \"https://blog.naver.com/happykh0516\",\n",
      "\"postdate\": \"20201010\"\n",
      "\n",
      "}\n",
      "]\n",
      "}\n",
      "\n"
     ]
    }
   ],
   "source": [
    "print(response.read().decode('utf-8'))"
   ]
  },
  {
   "cell_type": "code",
   "execution_count": 41,
   "id": "67734b01",
   "metadata": {},
   "outputs": [],
   "source": [
    "def create_url(api_node, search_text, start_num, disp_num):\n",
    "    base = \"https://openapi.naver.com/v1/search\"\n",
    "    node = \"/\"+api_node+\".json\"\n",
    "    param_query = \"?query=\" + urllib.parse.quote(search_text)\n",
    "    param_start = \"&start=\" + str(start_num)\n",
    "    param_disp = \"&display=\" + str(disp_num)\n",
    "    \n",
    "    return base+node+param_query+param_start+param_disp"
   ]
  },
  {
   "cell_type": "code",
   "execution_count": 42,
   "id": "13ae1ffc",
   "metadata": {},
   "outputs": [
    {
     "data": {
      "text/plain": [
       "'https://openapi.naver.com/v1/search/blog.json?query=bts&start=1&display=5'"
      ]
     },
     "execution_count": 42,
     "metadata": {},
     "output_type": "execute_result"
    }
   ],
   "source": [
    "url2 = create_url(\"blog\", \"bts\", 1, 5)\n",
    "url2"
   ]
  },
  {
   "cell_type": "code",
   "execution_count": 43,
   "id": "e999be9d",
   "metadata": {},
   "outputs": [
    {
     "name": "stdout",
     "output_type": "stream",
     "text": [
      "200\n"
     ]
    }
   ],
   "source": [
    "request = urllib.request.Request(url2)\n",
    "request.add_header(\"X-Naver-Client-Id\", client_id)\n",
    "request.add_header(\"X-Naver-Client-Secret\", client_secret)\n",
    "response = urllib.request.urlopen(request)\n",
    "print(response.getcode())"
   ]
  },
  {
   "cell_type": "code",
   "execution_count": 44,
   "id": "57de0350",
   "metadata": {},
   "outputs": [
    {
     "name": "stdout",
     "output_type": "stream",
     "text": [
      "{\n",
      "\"lastBuildDate\": \"Wed, 24 Nov 2021 18:51:46 +0900\",\n",
      "\"total\": 5695134,\n",
      "\"start\": 1,\n",
      "\"display\": 5,\n",
      "\"items\": [\n",
      "{\n",
      "\"title\": \"강릉 가볼만한곳 <b>BTS</b> 버스정류장 향호해변 일출사냥!\",\n",
      "\"link\": \"https:\\/\\/blog.naver.com\\/rhksgn?Redirect=Log&logNo=222561904038\",\n",
      "\"description\": \"핫한 강원도 강릉 가볼만한곳인 <b>BTS</b> 버스정류장을 다녀온 후기를 공유해 봅니다. :-) 원래 일출을 보러... 전날, 일출이 뜨는 시간 30분 전에 향호해변에 도착해서 <b>BTS</b> 버스정류장으로 걸어갑니다. 향호해변에서는... \",\n",
      "\"bloggername\": \"딸기소보루의 ' Hobbylog '\",\n",
      "\"bloggerlink\": \"https://blog.naver.com/rhksgn\",\n",
      "\"postdate\": \"20211108\"\n",
      "\n",
      "},\n",
      "{\n",
      "\"title\": \"[일본] <b>BTS</b>, 2021 아메리칸 뮤직어워드 대상 수상 일본 반응\",\n",
      "\"link\": \"https:\\/\\/blog.naver.com\\/pumpkinpant?Redirect=Log&logNo=222576001339\",\n",
      "\"description\": \"수상한 <b>BTS</b>. 아시아 가수로는 첫 수상이라는기사에, 안티글이 넘쳐났던 지금까지의 댓글과 달리 축하와 인정을 담은 찬사가 압도적이었어요 웬일이니 ㅠㅠ 소름 돋을 정도. 안티들도 납득시킨 방탄이니까. <b>BTS</b>... \",\n",
      "\"bloggername\": \"펌킨팬츠\",\n",
      "\"bloggerlink\": \"https://blog.naver.com/pumpkinpant\",\n",
      "\"postdate\": \"20211123\"\n",
      "\n",
      "},\n",
      "{\n",
      "\"title\": \"<b>BTS</b> 병역혜택 줄지 말지 고민하면 안된다!\",\n",
      "\"link\": \"https:\\/\\/blog.naver.com\\/with4617?Redirect=Log&logNo=222575730816\",\n",
      "\"description\": \"<b>BTS</b>의 최연장자 진 ( 김석진 ) 은 1992년생으로 2022년까지 입대를 미룰 수 있습니다. 그런데... 2022년은... 출처 : 티브이데일리 <b>BTS</b> 는 그들과 비교해서 병역혜택을 주면 안되는 이유가 무엇일까요? 자기들 하고... \",\n",
      "\"bloggername\": \"자신에 대한 믿음\",\n",
      "\"bloggerlink\": \"https://blog.naver.com/with4617\",\n",
      "\"postdate\": \"20211122\"\n",
      "\n",
      "},\n",
      "{\n",
      "\"title\": \"삼척여행 삼척 해양케이블카와 <b>BTS</b> Butter 앨범촬영지... \",\n",
      "\"link\": \"https:\\/\\/blog.naver.com\\/tkmh1982?Redirect=Log&logNo=222567909011\",\n",
      "\"description\": \"삼척여행 삼척해양케이블카와 <b>BTS</b> Butter 앨범촬영지 맹방해변 10일전 가족여행으로 삼척여행을... 그리고 <b>BTS</b> 방탄소년단 Butter촬영지로 달려~~ 맹방해수욕장에 갔더니 너무 늦었나봐 썰렁함은 물론 너무 어둡다... \",\n",
      "\"bloggername\": \"해나리의 집밥 이야기\",\n",
      "\"bloggerlink\": \"https://blog.naver.com/tkmh1982\",\n",
      "\"postdate\": \"20211114\"\n",
      "\n",
      "},\n",
      "{\n",
      "\"title\": \"갤럭시 S20 플러스, <b>BTS</b> 에디션 가격과 스펙 정리\",\n",
      "\"link\": \"https:\\/\\/blog.naver.com\\/supapa13?Redirect=Log&logNo=222572897862\",\n",
      "\"description\": \"<b>BTS</b>입니다. (모르는 사람은 없겠지만..) 방탄소년단은 글로벌 탑티어 인기 아이돌 그룹으로, 몇 년 전부터 다양한 콜라보 상품까지 등장하고 있습니다. 이미 익숙하게 잘 알고 있던 아이템이지만, '<b>BTS</b>... \",\n",
      "\"bloggername\": \"세수하면이병헌 IT, 육아\",\n",
      "\"bloggerlink\": \"https://blog.naver.com/supapa13\",\n",
      "\"postdate\": \"20211121\"\n",
      "\n",
      "}\n",
      "]\n",
      "}\n",
      "\n"
     ]
    }
   ],
   "source": [
    "print(response.read().decode('utf-8'))\n"
   ]
  },
  {
   "cell_type": "markdown",
   "id": "fe5986a2",
   "metadata": {},
   "source": [
    "https://ko.wikipedia.org/wiki/JSON JSON 데이터 형식\n",
    "\n"
   ]
  },
  {
   "cell_type": "code",
   "execution_count": 45,
   "id": "ae195ea0",
   "metadata": {},
   "outputs": [],
   "source": [
    "import json\n"
   ]
  },
  {
   "cell_type": "code",
   "execution_count": 46,
   "id": "9fcad5d4",
   "metadata": {},
   "outputs": [
    {
     "name": "stdout",
     "output_type": "stream",
     "text": [
      "200\n"
     ]
    }
   ],
   "source": [
    "response = urllib.request.urlopen(request)\n",
    "print(response.getcode())"
   ]
  },
  {
   "cell_type": "code",
   "execution_count": 47,
   "id": "d8e22adf",
   "metadata": {},
   "outputs": [
    {
     "data": {
      "text/plain": [
       "{'lastBuildDate': 'Wed, 24 Nov 2021 18:51:46 +0900',\n",
       " 'total': 5695134,\n",
       " 'start': 1,\n",
       " 'display': 5,\n",
       " 'items': [{'title': '강릉 가볼만한곳 <b>BTS</b> 버스정류장 향호해변 일출사냥!',\n",
       "   'link': 'https://blog.naver.com/rhksgn?Redirect=Log&logNo=222561904038',\n",
       "   'description': '핫한 강원도 강릉 가볼만한곳인 <b>BTS</b> 버스정류장을 다녀온 후기를 공유해 봅니다. :-) 원래 일출을 보러... 전날, 일출이 뜨는 시간 30분 전에 향호해변에 도착해서 <b>BTS</b> 버스정류장으로 걸어갑니다. 향호해변에서는... ',\n",
       "   'bloggername': \"딸기소보루의 ' Hobbylog '\",\n",
       "   'bloggerlink': 'https://blog.naver.com/rhksgn',\n",
       "   'postdate': '20211108'},\n",
       "  {'title': '[일본] <b>BTS</b>, 2021 아메리칸 뮤직어워드 대상 수상 일본 반응',\n",
       "   'link': 'https://blog.naver.com/pumpkinpant?Redirect=Log&logNo=222576001339',\n",
       "   'description': '수상한 <b>BTS</b>. 아시아 가수로는 첫 수상이라는기사에, 안티글이 넘쳐났던 지금까지의 댓글과 달리 축하와 인정을 담은 찬사가 압도적이었어요 웬일이니 ㅠㅠ 소름 돋을 정도. 안티들도 납득시킨 방탄이니까. <b>BTS</b>... ',\n",
       "   'bloggername': '펌킨팬츠',\n",
       "   'bloggerlink': 'https://blog.naver.com/pumpkinpant',\n",
       "   'postdate': '20211123'},\n",
       "  {'title': '<b>BTS</b> 병역혜택 줄지 말지 고민하면 안된다!',\n",
       "   'link': 'https://blog.naver.com/with4617?Redirect=Log&logNo=222575730816',\n",
       "   'description': '<b>BTS</b>의 최연장자 진 ( 김석진 ) 은 1992년생으로 2022년까지 입대를 미룰 수 있습니다. 그런데... 2022년은... 출처 : 티브이데일리 <b>BTS</b> 는 그들과 비교해서 병역혜택을 주면 안되는 이유가 무엇일까요? 자기들 하고... ',\n",
       "   'bloggername': '자신에 대한 믿음',\n",
       "   'bloggerlink': 'https://blog.naver.com/with4617',\n",
       "   'postdate': '20211122'},\n",
       "  {'title': '삼척여행 삼척 해양케이블카와 <b>BTS</b> Butter 앨범촬영지... ',\n",
       "   'link': 'https://blog.naver.com/tkmh1982?Redirect=Log&logNo=222567909011',\n",
       "   'description': '삼척여행 삼척해양케이블카와 <b>BTS</b> Butter 앨범촬영지 맹방해변 10일전 가족여행으로 삼척여행을... 그리고 <b>BTS</b> 방탄소년단 Butter촬영지로 달려~~ 맹방해수욕장에 갔더니 너무 늦었나봐 썰렁함은 물론 너무 어둡다... ',\n",
       "   'bloggername': '해나리의 집밥 이야기',\n",
       "   'bloggerlink': 'https://blog.naver.com/tkmh1982',\n",
       "   'postdate': '20211114'},\n",
       "  {'title': '갤럭시 S20 플러스, <b>BTS</b> 에디션 가격과 스펙 정리',\n",
       "   'link': 'https://blog.naver.com/supapa13?Redirect=Log&logNo=222572897862',\n",
       "   'description': \"<b>BTS</b>입니다. (모르는 사람은 없겠지만..) 방탄소년단은 글로벌 탑티어 인기 아이돌 그룹으로, 몇 년 전부터 다양한 콜라보 상품까지 등장하고 있습니다. 이미 익숙하게 잘 알고 있던 아이템이지만, '<b>BTS</b>... \",\n",
       "   'bloggername': '세수하면이병헌 IT, 육아',\n",
       "   'bloggerlink': 'https://blog.naver.com/supapa13',\n",
       "   'postdate': '20211121'}]}"
      ]
     },
     "execution_count": 47,
     "metadata": {},
     "output_type": "execute_result"
    }
   ],
   "source": [
    "result = json.loads(response.read().decode('utf-8'))\n",
    "result"
   ]
  },
  {
   "cell_type": "code",
   "execution_count": null,
   "id": "76fbd7d9",
   "metadata": {},
   "outputs": [],
   "source": []
  }
 ],
 "metadata": {
  "kernelspec": {
   "display_name": "Python 3",
   "language": "python",
   "name": "python3"
  },
  "language_info": {
   "codemirror_mode": {
    "name": "ipython",
    "version": 3
   },
   "file_extension": ".py",
   "mimetype": "text/x-python",
   "name": "python",
   "nbconvert_exporter": "python",
   "pygments_lexer": "ipython3",
   "version": "3.8.8"
  }
 },
 "nbformat": 4,
 "nbformat_minor": 5
}
